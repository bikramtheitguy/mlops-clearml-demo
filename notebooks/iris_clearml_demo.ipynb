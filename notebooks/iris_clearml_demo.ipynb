{
 "cells": [
  {
   "cell_type": "code",
   "execution_count": 1,
   "id": "2e747e1f",
   "metadata": {},
   "outputs": [],
   "source": [
    "# Iris Classification - ClearML MLOps Demo\n",
    "# Built by Bikram Keshari Samal | GitHub: @bikramtheitguy\n",
    "\n",
    "# In this notebook, we train two models (Random Forest & Decision Tree)\n",
    "# and use ClearML to track their performance.\n",
    "\n",
    "# Tech: Python, Scikit-learn, ClearML, GitHub Codespaces\n"
   ]
  },
  {
   "cell_type": "code",
   "execution_count": 2,
   "id": "8b0039b1",
   "metadata": {},
   "outputs": [],
   "source": [
    "!pip install clearml scikit-learn --quiet\n",
    "\n",
    "from clearml import Task, Logger\n",
    "from sklearn.datasets import load_iris\n",
    "from sklearn.model_selection import train_test_split\n",
    "from sklearn.ensemble import RandomForestClassifier\n",
    "from sklearn.tree import DecisionTreeClassifier\n",
    "from sklearn.metrics import accuracy_score\n",
    "import pandas as pd\n"
   ]
  },
  {
   "cell_type": "code",
   "execution_count": 3,
   "id": "93e5ead0",
   "metadata": {},
   "outputs": [
    {
     "data": {
      "text/html": [
       "<div>\n",
       "<style scoped>\n",
       "    .dataframe tbody tr th:only-of-type {\n",
       "        vertical-align: middle;\n",
       "    }\n",
       "\n",
       "    .dataframe tbody tr th {\n",
       "        vertical-align: top;\n",
       "    }\n",
       "\n",
       "    .dataframe thead th {\n",
       "        text-align: right;\n",
       "    }\n",
       "</style>\n",
       "<table border=\"1\" class=\"dataframe\">\n",
       "  <thead>\n",
       "    <tr style=\"text-align: right;\">\n",
       "      <th></th>\n",
       "      <th>sepal length (cm)</th>\n",
       "      <th>sepal width (cm)</th>\n",
       "      <th>petal length (cm)</th>\n",
       "      <th>petal width (cm)</th>\n",
       "      <th>target</th>\n",
       "    </tr>\n",
       "  </thead>\n",
       "  <tbody>\n",
       "    <tr>\n",
       "      <th>35</th>\n",
       "      <td>5.0</td>\n",
       "      <td>3.2</td>\n",
       "      <td>1.2</td>\n",
       "      <td>0.2</td>\n",
       "      <td>0</td>\n",
       "    </tr>\n",
       "    <tr>\n",
       "      <th>133</th>\n",
       "      <td>6.3</td>\n",
       "      <td>2.8</td>\n",
       "      <td>5.1</td>\n",
       "      <td>1.5</td>\n",
       "      <td>2</td>\n",
       "    </tr>\n",
       "    <tr>\n",
       "      <th>94</th>\n",
       "      <td>5.6</td>\n",
       "      <td>2.7</td>\n",
       "      <td>4.2</td>\n",
       "      <td>1.3</td>\n",
       "      <td>1</td>\n",
       "    </tr>\n",
       "    <tr>\n",
       "      <th>48</th>\n",
       "      <td>5.3</td>\n",
       "      <td>3.7</td>\n",
       "      <td>1.5</td>\n",
       "      <td>0.2</td>\n",
       "      <td>0</td>\n",
       "    </tr>\n",
       "    <tr>\n",
       "      <th>80</th>\n",
       "      <td>5.5</td>\n",
       "      <td>2.4</td>\n",
       "      <td>3.8</td>\n",
       "      <td>1.1</td>\n",
       "      <td>1</td>\n",
       "    </tr>\n",
       "  </tbody>\n",
       "</table>\n",
       "</div>"
      ],
      "text/plain": [
       "     sepal length (cm)  sepal width (cm)  petal length (cm)  petal width (cm)  \\\n",
       "35                 5.0               3.2                1.2               0.2   \n",
       "133                6.3               2.8                5.1               1.5   \n",
       "94                 5.6               2.7                4.2               1.3   \n",
       "48                 5.3               3.7                1.5               0.2   \n",
       "80                 5.5               2.4                3.8               1.1   \n",
       "\n",
       "     target  \n",
       "35        0  \n",
       "133       2  \n",
       "94        1  \n",
       "48        0  \n",
       "80        1  "
      ]
     },
     "execution_count": 3,
     "metadata": {},
     "output_type": "execute_result"
    }
   ],
   "source": [
    "# Load iris dataset\n",
    "data = load_iris()\n",
    "X = data.data\n",
    "y = data.target\n",
    "\n",
    "# Convert to DataFrame for better readability\n",
    "df = pd.DataFrame(X, columns=data.feature_names)\n",
    "df['target'] = y\n",
    "\n",
    "df.sample(5)\n"
   ]
  },
  {
   "cell_type": "code",
   "execution_count": 4,
   "id": "d91a0ed8",
   "metadata": {},
   "outputs": [],
   "source": [
    "X_train, X_test, y_train, y_test = train_test_split(X, y, test_size=0.2, random_state=42)\n"
   ]
  },
  {
   "cell_type": "code",
   "execution_count": 5,
   "id": "8570f0fa",
   "metadata": {},
   "outputs": [
    {
     "name": "stdout",
     "output_type": "stream",
     "text": [
      "ClearML Task: overwriting (reusing) task id=b59cf9a712604487935d02767a73f1c5\n",
      "2025-04-25 04:42:13,654 - clearml.Task - INFO - No repository found, storing script code instead\n",
      "ClearML results page: https://app.clear.ml/projects/9e09f4141bd8451eb9f54fad0f5a4824/experiments/b59cf9a712604487935d02767a73f1c5/output/log\n"
     ]
    },
    {
     "name": "stdout",
     "output_type": "stream",
     "text": [
      "ClearML Monitor: GPU monitoring failed getting GPU reading, switching off GPU monitoring\n",
      "2025-04-25 04:42:38,150 - clearml.Task - WARNING - ### TASK STOPPED - USER ABORTED - STATUS CHANGED ###\n"
     ]
    }
   ],
   "source": [
    "task = Task.init(project_name=\"ClearML Notebook Demo\", task_name=\"Iris Model Comparison\")\n",
    "logger = task.get_logger()\n"
   ]
  },
  {
   "cell_type": "code",
   "execution_count": 6,
   "id": "ada3b9d6",
   "metadata": {},
   "outputs": [
    {
     "name": "stdout",
     "output_type": "stream",
     "text": [
      "Random Forest Accuracy: 1.0\n"
     ]
    }
   ],
   "source": [
    "clf_rf = RandomForestClassifier(n_estimators=100)\n",
    "clf_rf.fit(X_train, y_train)\n",
    "preds_rf = clf_rf.predict(X_test)\n",
    "acc_rf = accuracy_score(y_test, preds_rf)\n",
    "\n",
    "print(\"Random Forest Accuracy:\", acc_rf)\n",
    "logger.report_scalar(\"accuracy\", \"random_forest\", iteration=0, value=acc_rf)\n"
   ]
  },
  {
   "cell_type": "code",
   "execution_count": 7,
   "id": "c79d7684",
   "metadata": {},
   "outputs": [
    {
     "name": "stdout",
     "output_type": "stream",
     "text": [
      "Decision Tree Accuracy: 1.0\n"
     ]
    }
   ],
   "source": [
    "clf_dt = DecisionTreeClassifier()\n",
    "clf_dt.fit(X_train, y_train)\n",
    "preds_dt = clf_dt.predict(X_test)\n",
    "acc_dt = accuracy_score(y_test, preds_dt)\n",
    "\n",
    "print(\"Decision Tree Accuracy:\", acc_dt)\n",
    "logger.report_scalar(\"accuracy\", \"decision_tree\", iteration=0, value=acc_dt)\n"
   ]
  },
  {
   "cell_type": "code",
   "execution_count": null,
   "id": "394b3131",
   "metadata": {},
   "outputs": [
    {
     "data": {
      "text/plain": [
       "<clearml.backend_api.session.callresult.CallResult at 0x74a73996c5c0>"
      ]
     },
     "execution_count": 8,
     "metadata": {},
     "output_type": "execute_result"
    },
    {
     "ename": "",
     "evalue": "",
     "output_type": "error",
     "traceback": [
      "\u001b[1;31mThe Kernel crashed while executing code in the current cell or a previous cell. \n",
      "\u001b[1;31mPlease review the code in the cell(s) to identify a possible cause of the failure. \n",
      "\u001b[1;31mClick <a href='https://aka.ms/vscodeJupyterKernelCrash'>here</a> for more info. \n",
      "\u001b[1;31mView Jupyter <a href='command:jupyter.viewOutput'>log</a> for further details."
     ]
    }
   ],
   "source": [
    "#print(\"✅ Experiment Logged to ClearML Dashboard!\")\n",
    "#print(\"Visit: https://app.clear.ml/projects to compare experiments.\")\n",
    "\n",
    "task.mark_completed()\n"
   ]
  }
 ],
 "metadata": {
  "kernelspec": {
   "display_name": "Python 3",
   "language": "python",
   "name": "python3"
  },
  "language_info": {
   "codemirror_mode": {
    "name": "ipython",
    "version": 3
   },
   "file_extension": ".py",
   "mimetype": "text/x-python",
   "name": "python",
   "nbconvert_exporter": "python",
   "pygments_lexer": "ipython3",
   "version": "3.12.1"
  }
 },
 "nbformat": 4,
 "nbformat_minor": 5
}
